{
 "cells": [
  {
   "cell_type": "code",
   "execution_count": 30,
   "id": "c2561932",
   "metadata": {},
   "outputs": [
    {
     "name": "stdout",
     "output_type": "stream",
     "text": [
      "the list1 numbers:   12\n",
      "the list1 numbers:   5\n",
      "the list1 numbers:   64\n",
      "\n",
      "\n",
      "the list2 numbers:   [12]\n",
      "the list2 numbers:   [14]\n",
      "the list2 numbers:   [3]\n"
     ]
    }
   ],
   "source": [
    "list1 = [12,-7,5,64,-14]\n",
    "\n",
    "for number in list1:\n",
    "    if number>0:\n",
    "        print(\"the list1 numbers:  \",number)\n",
    "\n",
    "print(\"\\n\")      \n",
    "\n",
    "list2 = [12, 14, -95, 3]\n",
    "\n",
    "for number in list2:\n",
    "    if number>0:\n",
    "        print(\"the list2 numbers:  \",[number])     \n"
   ]
  },
  {
   "cell_type": "code",
   "execution_count": null,
   "id": "a65be66c",
   "metadata": {},
   "outputs": [],
   "source": []
  },
  {
   "cell_type": "code",
   "execution_count": null,
   "id": "59139b85",
   "metadata": {},
   "outputs": [],
   "source": []
  },
  {
   "cell_type": "code",
   "execution_count": null,
   "id": "0dd32c82",
   "metadata": {},
   "outputs": [],
   "source": []
  }
 ],
 "metadata": {
  "kernelspec": {
   "display_name": "Python 3",
   "language": "python",
   "name": "python3"
  },
  "language_info": {
   "codemirror_mode": {
    "name": "ipython",
    "version": 3
   },
   "file_extension": ".py",
   "mimetype": "text/x-python",
   "name": "python",
   "nbconvert_exporter": "python",
   "pygments_lexer": "ipython3",
   "version": "3.8.8"
  }
 },
 "nbformat": 4,
 "nbformat_minor": 5
}
